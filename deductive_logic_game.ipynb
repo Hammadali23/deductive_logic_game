{
  "nbformat": 4,
  "nbformat_minor": 0,
  "metadata": {
    "colab": {
      "provenance": [],
      "authorship_tag": "ABX9TyN+fvdFopktq5tNkGDL0Ppi",
      "include_colab_link": true
    },
    "kernelspec": {
      "name": "python3",
      "display_name": "Python 3"
    },
    "language_info": {
      "name": "python"
    }
  },
  "cells": [
    {
      "cell_type": "markdown",
      "metadata": {
        "id": "view-in-github",
        "colab_type": "text"
      },
      "source": [
        "<a href=\"https://colab.research.google.com/github/Hammadali23/deductive_logic_game/blob/main/deductive_logic_game.ipynb\" target=\"_parent\"><img src=\"https://colab.research.google.com/assets/colab-badge.svg\" alt=\"Open In Colab\"/></a>"
      ]
    },
    {
      "cell_type": "code",
      "execution_count": null,
      "metadata": {
        "id": "CWSTW5Vmrak6"
      },
      "outputs": [],
      "source": [
        "import random\n",
        "\n",
        "def generate_secret_number():\n",
        "    \"\"\"Generates a random 3-digit number as a string.\"\"\"\n",
        "    return str(random.randint(100, 999))\n",
        "\n",
        "def get_feedback(secret, guess):\n",
        "    \"\"\"Provides feedback on the guessed number.\"\"\"\n",
        "    feedback = []\n",
        "\n",
        "    for i in range(3):\n",
        "        if guess[i] == secret[i]:\n",
        "            feedback.append(\"👌\")\n",
        "        elif guess[i] in secret:\n",
        "            feedback.append(\"👍\")\n",
        "        else:\n",
        "            feedback.append(\"❌\")\n",
        "\n",
        "    return \" \".join(feedback)\n",
        "\n",
        "def play_game():\n",
        "    \"\"\"Runs the deductive logic game.\"\"\"\n",
        "    secret_number = generate_secret_number()\n",
        "    attempts = 10\n",
        "\n",
        "    print(\"Welcome to the Guessing Game!\")\n",
        "    print(\"You have 10 attempts to guess the secret 3-digit number.\")\n",
        "\n",
        "    for attempt in range(1, attempts + 1):\n",
        "        guess = input(f\"Attempt {attempt}/10 - Enter a 3-digit number: \")\n",
        "\n",
        "        if len(guess) != 3 or not guess.isdigit():\n",
        "            print(\"Invalid input. Please enter exactly 3 digits.\")\n",
        "            continue\n",
        "\n",
        "        feedback = get_feedback(secret_number, guess)\n",
        "        print(feedback)\n",
        "\n",
        "        if feedback == \"👌 👌 👌\":\n",
        "            print(\"🎉 You got it! The secret number was:\", secret_number)\n",
        "            return\n",
        "\n",
        "    print(\"Game Over! The secret number was:\", secret_number)\n",
        "\n",
        "if __name__ == \"__main__\":\n",
        "    play_game()"
      ]
    }
  ]
}