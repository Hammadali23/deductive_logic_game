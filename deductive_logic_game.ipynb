{
  "nbformat": 4,
  "nbformat_minor": 0,
  "metadata": {
    "colab": {
      "provenance": [],
      "authorship_tag": "ABX9TyN+fvdFopktq5tNkGDL0Ppi",
      "include_colab_link": true
    },
    "kernelspec": {
      "name": "python3",
      "display_name": "Python 3"
    },
    "language_info": {
      "name": "python"
    }
  },
  "cells": [
    {
      "cell_type": "markdown",
      "metadata": {
        "id": "view-in-github",
        "colab_type": "text"
      },
      "source": [
        "<a href=\"https://colab.research.google.com/github/Hammadali23/deductive_logic_game/blob/main/deductive_logic_game.ipynb\" target=\"_parent\"><img src=\"https://colab.research.google.com/assets/colab-badge.svg\" alt=\"Open In Colab\"/></a>"
      ]
    },
    {
      "cell_type": "code",
      "execution_count": 1,
      "metadata": {
        "colab": {
          "base_uri": "https://localhost:8080/"
        },
        "id": "CWSTW5Vmrak6",
        "outputId": "e748c29e-ae3f-4b48-a3a7-045b90459402"
      },
      "outputs": [
        {
          "output_type": "stream",
          "name": "stdout",
          "text": [
            "Welcome to the Guessing Game!\n",
            "You have 10 attempts to guess the secret 3-digit number.\n",
            "Attempt 1/10 - Enter a 3-digit number: 255\n",
            "👌 ❌ ❌\n",
            "Attempt 2/10 - Enter a 3-digit number: 562\n",
            "❌ ❌ 👍\n",
            "Attempt 3/10 - Enter a 3-digit number: 452\n",
            "❌ ❌ 👍\n",
            "Attempt 4/10 - Enter a 3-digit number: 589\n",
            "❌ ❌ ❌\n",
            "Attempt 5/10 - Enter a 3-digit number: 5\n",
            "Invalid input. Please enter exactly 3 digits.\n",
            "Attempt 6/10 - Enter a 3-digit number: 666\n",
            "❌ ❌ ❌\n",
            "Attempt 7/10 - Enter a 3-digit number: 559\n",
            "❌ ❌ ❌\n",
            "Attempt 8/10 - Enter a 3-digit number: 557\n",
            "❌ ❌ 👌\n",
            "Attempt 9/10 - Enter a 3-digit number: 45\n",
            "Invalid input. Please enter exactly 3 digits.\n",
            "Attempt 10/10 - Enter a 3-digit number: 568\n",
            "❌ ❌ ❌\n",
            "Game Over! The secret number was: 237\n"
          ]
        }
      ],
      "source": [
        "import random\n",
        "\n",
        "def generate_secret_number():\n",
        "    \"\"\"Generates a random 3-digit number as a string.\"\"\"\n",
        "    return str(random.randint(100, 999))\n",
        "\n",
        "def get_feedback(secret, guess):\n",
        "    \"\"\"Provides feedback on the guessed number.\"\"\"\n",
        "    feedback = []\n",
        "\n",
        "    for i in range(3):\n",
        "        if guess[i] == secret[i]:\n",
        "            feedback.append(\"👌\")\n",
        "        elif guess[i] in secret:\n",
        "            feedback.append(\"👍\")\n",
        "        else:\n",
        "            feedback.append(\"❌\")\n",
        "\n",
        "    return \" \".join(feedback)\n",
        "\n",
        "def play_game():\n",
        "    \"\"\"Runs the deductive logic game.\"\"\"\n",
        "    secret_number = generate_secret_number()\n",
        "    attempts = 10\n",
        "\n",
        "    print(\"Welcome to the Guessing Game!\")\n",
        "    print(\"You have 10 attempts to guess the secret 3-digit number.\")\n",
        "\n",
        "    for attempt in range(1, attempts + 1):\n",
        "        guess = input(f\"Attempt {attempt}/10 - Enter a 3-digit number: \")\n",
        "\n",
        "        if len(guess) != 3 or not guess.isdigit():\n",
        "            print(\"Invalid input. Please enter exactly 3 digits.\")\n",
        "            continue\n",
        "\n",
        "        feedback = get_feedback(secret_number, guess)\n",
        "        print(feedback)\n",
        "\n",
        "        if feedback == \"👌 👌 👌\":\n",
        "            print(\"🎉 You got it! The secret number was:\", secret_number)\n",
        "            return\n",
        "\n",
        "    print(\"Game Over! The secret number was:\", secret_number)\n",
        "\n",
        "if __name__ == \"__main__\":\n",
        "    play_game()"
      ]
    }
  ]
}